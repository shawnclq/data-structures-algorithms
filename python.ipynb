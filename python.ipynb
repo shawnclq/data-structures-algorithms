{
 "cells": [
  {
   "cell_type": "markdown",
   "id": "9ae5d3f9",
   "metadata": {},
   "source": [
    "# Python Data Structures"
   ]
  },
  {
   "cell_type": "markdown",
   "id": "be8995fc",
   "metadata": {},
   "source": [
    "## Queues"
   ]
  },
  {
   "cell_type": "code",
   "execution_count": 8,
   "id": "2fb4cb82",
   "metadata": {},
   "outputs": [],
   "source": [
    "# Double ended queue\n",
    "from collections import deque"
   ]
  },
  {
   "cell_type": "code",
   "execution_count": 2,
   "id": "48726d79",
   "metadata": {},
   "outputs": [
    {
     "name": "stdout",
     "output_type": "stream",
     "text": [
      "deque([1, 2])\n"
     ]
    }
   ],
   "source": [
    "queue = deque()\n",
    "queue.append(1)\n",
    "queue.append(2)\n",
    "print(queue)"
   ]
  },
  {
   "cell_type": "code",
   "execution_count": 3,
   "id": "ac205be5",
   "metadata": {},
   "outputs": [
    {
     "name": "stdout",
     "output_type": "stream",
     "text": [
      "deque([2])\n"
     ]
    }
   ],
   "source": [
    "queue.popleft()\n",
    "print(queue)"
   ]
  },
  {
   "cell_type": "code",
   "execution_count": 4,
   "id": "0aac0aa0",
   "metadata": {},
   "outputs": [
    {
     "name": "stdout",
     "output_type": "stream",
     "text": [
      "deque([1, 2])\n"
     ]
    }
   ],
   "source": [
    "queue.appendleft(1)\n",
    "print(queue)"
   ]
  },
  {
   "cell_type": "code",
   "execution_count": 6,
   "id": "ac313f9c",
   "metadata": {},
   "outputs": [
    {
     "name": "stdout",
     "output_type": "stream",
     "text": [
      "deque([])\n"
     ]
    }
   ],
   "source": [
    "queue.pop()\n",
    "print(queue)"
   ]
  },
  {
   "cell_type": "code",
   "execution_count": 10,
   "id": "43c34139",
   "metadata": {},
   "outputs": [
    {
     "data": {
      "text/plain": [
       "0"
      ]
     },
     "execution_count": 10,
     "metadata": {},
     "output_type": "execute_result"
    }
   ],
   "source": [
    "queue.count(1)"
   ]
  },
  {
   "cell_type": "markdown",
   "id": "32df54ca",
   "metadata": {},
   "source": [
    "## HashSets"
   ]
  },
  {
   "cell_type": "code",
   "execution_count": 11,
   "id": "ead70e8c",
   "metadata": {},
   "outputs": [],
   "source": [
    "mySet = set()"
   ]
  },
  {
   "cell_type": "code",
   "execution_count": 12,
   "id": "7609331a",
   "metadata": {},
   "outputs": [
    {
     "name": "stdout",
     "output_type": "stream",
     "text": [
      "{1, 2}\n",
      "2\n"
     ]
    }
   ],
   "source": [
    "mySet.add(1)\n",
    "mySet.add(2)\n",
    "print(mySet)\n",
    "print(len(mySet))"
   ]
  },
  {
   "cell_type": "code",
   "execution_count": 13,
   "id": "eecd74ad",
   "metadata": {},
   "outputs": [
    {
     "name": "stdout",
     "output_type": "stream",
     "text": [
      "True\n",
      "False\n"
     ]
    }
   ],
   "source": [
    "print(1 in mySet)\n",
    "print(3 in mySet)"
   ]
  },
  {
   "cell_type": "code",
   "execution_count": 14,
   "id": "edb2e1a6",
   "metadata": {},
   "outputs": [
    {
     "name": "stdout",
     "output_type": "stream",
     "text": [
      "{1, 2}\n",
      "False\n",
      "{1}\n"
     ]
    }
   ],
   "source": [
    "print(mySet)\n",
    "mySet.remove(2)\n",
    "print(2 in mySet)\n",
    "print(mySet)"
   ]
  },
  {
   "cell_type": "code",
   "execution_count": 15,
   "id": "6832b350",
   "metadata": {},
   "outputs": [
    {
     "name": "stdout",
     "output_type": "stream",
     "text": [
      "{1, 2, 3, 4}\n"
     ]
    }
   ],
   "source": [
    "print(set([1, 1, 1, 2, 3, 3, 4]))"
   ]
  },
  {
   "cell_type": "markdown",
   "id": "5b5ad63f",
   "metadata": {},
   "source": [
    "## HashMaps"
   ]
  },
  {
   "cell_type": "code",
   "execution_count": 16,
   "id": "ec419d9f",
   "metadata": {},
   "outputs": [
    {
     "name": "stdout",
     "output_type": "stream",
     "text": [
      "{'a': 100, 'b': 500}\n"
     ]
    }
   ],
   "source": [
    "myMap = {}\n",
    "myMap['a'] = 100\n",
    "myMap['b'] = 500\n",
    "print(myMap)"
   ]
  },
  {
   "cell_type": "code",
   "execution_count": 17,
   "id": "c3f00f67",
   "metadata": {},
   "outputs": [
    {
     "name": "stdout",
     "output_type": "stream",
     "text": [
      "2\n"
     ]
    }
   ],
   "source": [
    "print(len(myMap))"
   ]
  },
  {
   "cell_type": "code",
   "execution_count": 19,
   "id": "44a4b771",
   "metadata": {},
   "outputs": [
    {
     "name": "stdout",
     "output_type": "stream",
     "text": [
      "200\n"
     ]
    }
   ],
   "source": [
    "myMap['a'] = 200\n",
    "print(myMap['a'])"
   ]
  },
  {
   "cell_type": "code",
   "execution_count": 20,
   "id": "2e7c6218",
   "metadata": {},
   "outputs": [
    {
     "name": "stdout",
     "output_type": "stream",
     "text": [
      "False\n"
     ]
    }
   ],
   "source": [
    "myMap.pop('a')\n",
    "print('a' in myMap)"
   ]
  },
  {
   "cell_type": "code",
   "execution_count": 21,
   "id": "21458ef2",
   "metadata": {},
   "outputs": [
    {
     "name": "stdout",
     "output_type": "stream",
     "text": [
      "{0: 3, 1: 4, 2: 5, 3: 6}\n"
     ]
    }
   ],
   "source": [
    "myMap = {i: 3 + i for i in range(4)}\n",
    "print(myMap)"
   ]
  },
  {
   "cell_type": "code",
   "execution_count": 22,
   "id": "4dc5ebea",
   "metadata": {},
   "outputs": [
    {
     "name": "stdout",
     "output_type": "stream",
     "text": [
      "0 3\n",
      "1 4\n",
      "2 5\n",
      "3 6\n"
     ]
    }
   ],
   "source": [
    "for key in myMap:\n",
    "    print(key, myMap[key])"
   ]
  },
  {
   "cell_type": "code",
   "execution_count": 23,
   "id": "d51d86d8",
   "metadata": {},
   "outputs": [
    {
     "name": "stdout",
     "output_type": "stream",
     "text": [
      "3\n",
      "4\n",
      "5\n",
      "6\n"
     ]
    }
   ],
   "source": [
    "for val in myMap.values():\n",
    "    print(val)"
   ]
  },
  {
   "cell_type": "code",
   "execution_count": 24,
   "id": "bfb6f644",
   "metadata": {},
   "outputs": [
    {
     "name": "stdout",
     "output_type": "stream",
     "text": [
      "0 3\n",
      "1 4\n",
      "2 5\n",
      "3 6\n"
     ]
    }
   ],
   "source": [
    "for key, val in myMap.items():\n",
    "    print(key, val)"
   ]
  },
  {
   "cell_type": "markdown",
   "id": "275634f1",
   "metadata": {},
   "source": [
    "## Tuples"
   ]
  },
  {
   "cell_type": "code",
   "execution_count": 33,
   "id": "85316cb4",
   "metadata": {},
   "outputs": [],
   "source": [
    "tup = (1, 2, 3)"
   ]
  },
  {
   "cell_type": "code",
   "execution_count": 34,
   "id": "30a46d1e",
   "metadata": {},
   "outputs": [
    {
     "name": "stdout",
     "output_type": "stream",
     "text": [
      "1\n"
     ]
    }
   ],
   "source": [
    "print(tup[0])"
   ]
  },
  {
   "cell_type": "code",
   "execution_count": 36,
   "id": "119987f6",
   "metadata": {},
   "outputs": [
    {
     "name": "stdout",
     "output_type": "stream",
     "text": [
      "3\n"
     ]
    }
   ],
   "source": [
    "print(tup[-1])"
   ]
  },
  {
   "cell_type": "code",
   "execution_count": 37,
   "id": "02c685e3",
   "metadata": {},
   "outputs": [
    {
     "ename": "TypeError",
     "evalue": "'tuple' object does not support item assignment",
     "output_type": "error",
     "traceback": [
      "\u001b[0;31m---------------------------------------------------------------------------\u001b[0m",
      "\u001b[0;31mTypeError\u001b[0m                                 Traceback (most recent call last)",
      "Input \u001b[0;32mIn [37]\u001b[0m, in \u001b[0;36m<cell line: 1>\u001b[0;34m()\u001b[0m\n\u001b[0;32m----> 1\u001b[0m tup[\u001b[38;5;241m0\u001b[39m] \u001b[38;5;241m=\u001b[39m \u001b[38;5;241m0\u001b[39m\n",
      "\u001b[0;31mTypeError\u001b[0m: 'tuple' object does not support item assignment"
     ]
    }
   ],
   "source": [
    "tup[0] = 0"
   ]
  },
  {
   "cell_type": "code",
   "execution_count": 38,
   "id": "20951a6d",
   "metadata": {},
   "outputs": [
    {
     "name": "stdout",
     "output_type": "stream",
     "text": [
      "3\n"
     ]
    }
   ],
   "source": [
    "myMap = {(1, 2): 3}\n",
    "print(myMap[(1, 2)])"
   ]
  },
  {
   "cell_type": "code",
   "execution_count": 39,
   "id": "6eb28f5a",
   "metadata": {},
   "outputs": [
    {
     "name": "stdout",
     "output_type": "stream",
     "text": [
      "True\n"
     ]
    }
   ],
   "source": [
    "print((1, 2) in myMap)"
   ]
  },
  {
   "cell_type": "code",
   "execution_count": 40,
   "id": "3b71a874",
   "metadata": {},
   "outputs": [
    {
     "ename": "TypeError",
     "evalue": "unhashable type: 'list'",
     "output_type": "error",
     "traceback": [
      "\u001b[0;31m---------------------------------------------------------------------------\u001b[0m",
      "\u001b[0;31mTypeError\u001b[0m                                 Traceback (most recent call last)",
      "Input \u001b[0;32mIn [40]\u001b[0m, in \u001b[0;36m<cell line: 1>\u001b[0;34m()\u001b[0m\n\u001b[0;32m----> 1\u001b[0m myMap[[\u001b[38;5;241m3\u001b[39m, \u001b[38;5;241m2\u001b[39m]] \u001b[38;5;241m=\u001b[39m \u001b[38;5;241m5\u001b[39m\n",
      "\u001b[0;31mTypeError\u001b[0m: unhashable type: 'list'"
     ]
    }
   ],
   "source": [
    "myMap[[3, 2]] = 5"
   ]
  },
  {
   "cell_type": "markdown",
   "id": "6bfb7b44",
   "metadata": {},
   "source": [
    "## Heaps"
   ]
  },
  {
   "cell_type": "code",
   "execution_count": 41,
   "id": "f9849029",
   "metadata": {},
   "outputs": [],
   "source": [
    "import heapq"
   ]
  },
  {
   "cell_type": "code",
   "execution_count": 42,
   "id": "8ce6ba56",
   "metadata": {},
   "outputs": [
    {
     "name": "stdout",
     "output_type": "stream",
     "text": [
      "2\n"
     ]
    }
   ],
   "source": [
    "minHeap = []\n",
    "heapq.heappush(minHeap, 3)\n",
    "heapq.heappush(minHeap, 2)\n",
    "heapq.heappush(minHeap, 4)\n",
    "print(minHeap[0])"
   ]
  },
  {
   "cell_type": "code",
   "execution_count": 43,
   "id": "e24b3cc1",
   "metadata": {},
   "outputs": [
    {
     "name": "stdout",
     "output_type": "stream",
     "text": [
      "2\n",
      "3\n",
      "4\n"
     ]
    }
   ],
   "source": [
    "while len(minHeap):\n",
    "    print(heapq.heappop(minHeap))"
   ]
  },
  {
   "cell_type": "code",
   "execution_count": 44,
   "id": "ae1adde8",
   "metadata": {},
   "outputs": [
    {
     "name": "stdout",
     "output_type": "stream",
     "text": [
      "4\n"
     ]
    }
   ],
   "source": [
    "# No max heaps by default, work around is to use \n",
    "# min heap and add multiplication by -1 when pushing and popping.\n",
    "maxHeap = []\n",
    "heapq.heappush(maxHeap, -3)\n",
    "heapq.heappush(maxHeap, -2)\n",
    "heapq.heappush(maxHeap, -4)\n",
    "print(-1 * maxHeap[0])"
   ]
  },
  {
   "cell_type": "code",
   "execution_count": 45,
   "id": "690d0fdc",
   "metadata": {},
   "outputs": [
    {
     "name": "stdout",
     "output_type": "stream",
     "text": [
      "4\n",
      "3\n",
      "2\n"
     ]
    }
   ],
   "source": [
    "while len(maxHeap):\n",
    "    print(-1 * heapq.heappop(maxHeap))"
   ]
  },
  {
   "cell_type": "code",
   "execution_count": 48,
   "id": "5b6ba11f",
   "metadata": {},
   "outputs": [
    {
     "name": "stdout",
     "output_type": "stream",
     "text": [
      "1\n",
      "2\n",
      "4\n",
      "5\n",
      "8\n"
     ]
    }
   ],
   "source": [
    "arr = [2, 1, 8, 4, 5]\n",
    "heapq.heapify(arr)\n",
    "while arr:\n",
    "    print(heapq.heappop(arr))"
   ]
  }
 ],
 "metadata": {
  "kernelspec": {
   "display_name": "data-struct-algos",
   "language": "python",
   "name": "data-struct-algos"
  },
  "language_info": {
   "codemirror_mode": {
    "name": "ipython",
    "version": 3
   },
   "file_extension": ".py",
   "mimetype": "text/x-python",
   "name": "python",
   "nbconvert_exporter": "python",
   "pygments_lexer": "ipython3",
   "version": "3.9.13"
  }
 },
 "nbformat": 4,
 "nbformat_minor": 5
}
